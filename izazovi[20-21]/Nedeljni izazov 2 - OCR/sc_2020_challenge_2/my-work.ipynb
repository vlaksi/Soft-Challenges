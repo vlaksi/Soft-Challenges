{
 "cells": [
  {
   "cell_type": "markdown",
   "metadata": {},
   "source": [
    "# Moj rad"
   ]
  },
  {
   "cell_type": "code",
   "execution_count": 1,
   "metadata": {},
   "outputs": [
    {
     "name": "stderr",
     "output_type": "stream",
     "text": [
      "/home/student/anaconda3/lib/python3.6/site-packages/h5py/__init__.py:36: FutureWarning: Conversion of the second argument of issubdtype from `float` to `np.floating` is deprecated. In future, it will be treated as `np.float64 == np.dtype(float).type`.\n",
      "  from ._conv import register_converters as _register_converters\n",
      "Using TensorFlow backend.\n",
      "/home/student/anaconda3/lib/python3.6/site-packages/fuzzywuzzy/fuzz.py:11: UserWarning: Using slow pure-python SequenceMatcher. Install python-Levenshtein to remove this warning\n",
      "  warnings.warn('Using slow pure-python SequenceMatcher. Install python-Levenshtein to remove this warning')\n"
     ]
    }
   ],
   "source": [
    "from __future__ import print_function\n",
    "#import potrebnih biblioteka\n",
    "import cv2\n",
    "import collections\n",
    "\n",
    "# keras\n",
    "from keras.models import Sequential\n",
    "from keras.layers.core import Dense,Activation\n",
    "from keras.optimizers import SGD\n",
    "from keras.models import model_from_json\n",
    "\n",
    "#Sklearn biblioteka sa implementiranim K-means algoritmom\n",
    "from sklearn import datasets\n",
    "from sklearn.cluster import KMeans\n",
    "\n",
    "%matplotlib inline\n",
    "import numpy as np\n",
    "import matplotlib.pylab as plt\n",
    "plt.rcParams['figure.figsize'] = 160, 141 # za prikaz većih slika i plotova, zakomentarisati ako nije potrebno\n",
    "\n",
    "from pocetak import *\n",
    "from services.preparation_for_neural_network import *\n",
    "from services.show_result import *\n",
    "from debug_helper.helper import *"
   ]
  },
  {
   "cell_type": "code",
   "execution_count": 2,
   "metadata": {},
   "outputs": [
    {
     "name": "stdout",
     "output_type": "stream",
     "text": [
      "duzina inputa: 60\n",
      "duzina outputs: 60\n",
      "Istrenirani model uspesno ucitan.\n"
     ]
    },
    {
     "data": {
      "image/png": "[encoded data removed]",
      "text/plain": [
       "<Figure size 432x288 with 1 Axes>"
      ]
     },
     "metadata": {},
     "output_type": "display_data"
    }
   ],
   "source": [
    "image_path0 = 'dataset/train/alphabet1.png'\n",
    "letters0 = load_image_and_find_roi_HSV_TRAIN(image_path0)\n",
    "alphabet0 = ['A', 'B', 'C', 'Č', 'Ć', 'D', 'E', 'F', 'G', 'H','I', 'J', 'K', 'L', 'M', 'N', 'O', 'P', 'Q', 'R', 'S','Š', 'T', 'U','V', 'W', 'X', 'Y', 'Z', 'Ž']\n",
    "\n",
    "image_path1 = 'dataset/train/alphabet1.png'\n",
    "letters1 = load_image_and_find_roi_HSV_TRAIN(image_path1)\n",
    "alphabet1 = ['a', 'b', 'c', 'č', 'ć', 'd', 'e', 'f', 'g', 'h', 'i', 'j', 'k', 'l', 'm',\n",
    "            'n', 'o', 'p', 'q',\n",
    "            'r', 's', 'š', 't', 'u', 'v', 'w', 'x', 'y', 'z', 'ž']\n",
    "alphabet= alphabet0 + alphabet1\n",
    "letters = letters0 + letters1\n",
    "\n",
    "inputs = prepare_for_ann(letters)\n",
    "outputs = convert_output(alphabet)\n",
    "print(\"duzina inputa: \" + str(len(inputs)))\n",
    "print(\"duzina outputs: \" + str(len(outputs)))\n",
    "\n",
    "# probaj da ucitas prethodno istreniran model\n",
    "ann = load_trained_ann()\n",
    "\n",
    "# ako je ann=None, znaci da model nije ucitan u prethodnoj metodi i da je potrebno istrenirati novu mrezu\n",
    "if ann is None:\n",
    "    print(\"Traniranje modela zapoceto.\")\n",
    "    ann = create_ann()\n",
    "    ann = train_ann(ann, inputs, outputs)\n",
    "    print(\"Treniranje modela zavrseno.\")\n",
    "    # serijalizuj novu mrezu nakon treniranja, da se ne trenira ponovo svaki put\n",
    "    serialize_ann(ann)"
   ]
  },
  {
   "cell_type": "code",
   "execution_count": null,
   "metadata": {},
   "outputs": [],
   "source": [
    "# Učitavanje slike i određivanje regiona od interesa\n",
    "validation_image_path = 'dataset/train/alphabet1.png'\n",
    "distances, letters = load_image_and_find_roi_HSV_validate(validation_image_path)"
   ]
  },
  {
   "cell_type": "code",
   "execution_count": null,
   "metadata": {},
   "outputs": [],
   "source": [
    "# PREDIKCIJA\n",
    "print(extract_text(distances, letters, ann,vocabulary))"
   ]
  },
  {
   "cell_type": "code",
   "execution_count": 3,
   "metadata": {},
   "outputs": [
    {
     "data": {
      "text/plain": [
       "<matplotlib.image.AxesImage at 0x7fa1cdec76a0>"
      ]
     },
     "execution_count": 3,
     "metadata": {},
     "output_type": "execute_result"
    },
    {
     "data": {
      "image/png": "[encoded data removed]",
      "text/plain": [
       "<Figure size 432x288 with 1 Axes>"
      ]
     },
     "metadata": {},
     "output_type": "display_data"
    }
   ],
   "source": [
    "# POPRAVLJANJEEEE SEGMENTACIJE\n",
    "image_path = 'dataset/validation/train27.png'\n",
    "\n",
    "img = cv2.imread(image_path)\n",
    "image = img.copy()\n",
    "best_channel = image[:, :, 0]\n",
    "ret, image_bin = cv2.threshold(best_channel, 0, 255, cv2.THRESH_OTSU)\n",
    "invertovana = invert(image_bin)\n",
    "kernel = cv2.getStructuringElement(cv2.MORPH_ELLIPSE, (3, 3))\n",
    "opening = cv2.morphologyEx(invertovana, cv2.MORPH_OPEN, kernel, iterations=1)\n",
    "\n",
    "plt.imshow(opening,'gray')"
   ]
  },
  {
   "cell_type": "code",
   "execution_count": 4,
   "metadata": {},
   "outputs": [
    {
     "name": "stdout",
     "output_type": "stream",
     "text": [
      "belih: 25610\n",
      "ukupno: 591360\n",
      "crnih: 565750\n",
      "crnih: 95%\n",
      "belih: 4%\n"
     ]
    }
   ],
   "source": [
    "# BROJANJE BROJA BELIH I CRNIH PIKSELA KAKO BIH ZNAO DA LI SU SLOVA VECEG ILI MANJEG FONTA\n",
    "# PA NA OSNOVU TOGA KASNIJE RADIO ODREDJENO SKALIRANJE\n",
    "\n",
    "# get all non black Pixels\n",
    "numWhitePixel = cv2.countNonZero(opening)\n",
    "print(\"belih: \" + str(numWhitePixel))\n",
    "# get pixel count of image\n",
    "height, width, channels = img.shape\n",
    "numTotalPixel = height*width\n",
    "print(\"ukupno: \" + str(numTotalPixel))\n",
    "# compute all black pixels\n",
    "numBlackPixel = numTotalPixel - numWhitePixel\n",
    "print(\"crnih: \" + str(numBlackPixel))\n",
    "percentBlackPixel = numBlackPixel / numTotalPixel * 100;\n",
    "percentWhitePixel = numWhitePixel / numTotalPixel * 100;\n",
    "print(\"crnih: \" + str(int(percentBlackPixel)) +\"%\")\n",
    "print(\"belih: \" + str(int(percentWhitePixel)) +\"%\")"
   ]
  },
  {
   "cell_type": "code",
   "execution_count": 5,
   "metadata": {},
   "outputs": [
    {
     "name": "stdout",
     "output_type": "stream",
     "text": [
      "-3.6329421997070312\n"
     ]
    }
   ],
   "source": [
    "# ISPRAVLJANJE SLIKE\n",
    "coords = np.column_stack(np.where(opening>0))\n",
    "angle = cv2.minAreaRect(coords)[-1]\n",
    "\n",
    "# print(\"ugao: \" + str(angle))\n",
    "if angle < - 45:\n",
    "    angle = - (90 + angle)\n",
    "else:\n",
    "    angle = -angle\n",
    "print(angle)"
   ]
  },
  {
   "cell_type": "code",
   "execution_count": 6,
   "metadata": {},
   "outputs": [
    {
     "data": {
      "text/plain": [
       "<matplotlib.image.AxesImage at 0x7fa1cde1aa58>"
      ]
     },
     "execution_count": 6,
     "metadata": {},
     "output_type": "execute_result"
    },
    {
     "data": {
      "image/png": "[encoded data removed]",
      "text/plain": [
       "<Figure size 432x288 with 1 Axes>"
      ]
     },
     "metadata": {},
     "output_type": "display_data"
    }
   ],
   "source": [
    "(h, w) = image.shape[:2]\n",
    "center = (w//2,h//2)\n",
    "M = cv2.getRotationMatrix2D(center,angle,1.0)\n",
    "rotirana = cv2.warpAffine(image,M,(w,h),flags=cv2.INTER_CUBIC,borderMode=cv2.BORDER_REPLICATE)\n",
    "plt.imshow(rotirana,'gray')"
   ]
  },
  {
   "cell_type": "code",
   "execution_count": 7,
   "metadata": {},
   "outputs": [
    {
     "data": {
      "text/plain": [
       "<matplotlib.image.AxesImage at 0x7fa1cddee4e0>"
      ]
     },
     "execution_count": 7,
     "metadata": {},
     "output_type": "execute_result"
    },
    {
     "data": {
      "image/png": "[encoded data removed]",
      "text/plain": [
       "<Figure size 432x288 with 1 Axes>"
      ]
     },
     "metadata": {},
     "output_type": "display_data"
    }
   ],
   "source": [
    "img = rotirana\n",
    "image = img.copy()\n",
    "best_channel = image[:, :, 1]\n",
    "ret, image_bin = cv2.threshold(best_channel, 0, 255, cv2.THRESH_OTSU)\n",
    "invertovana = invert(image_bin)\n",
    "kernel = cv2.getStructuringElement(cv2.MORPH_ELLIPSE, (3, 3))\n",
    "opening = cv2.morphologyEx(invertovana, cv2.MORPH_OPEN, kernel, iterations=1)\n",
    "\n",
    "plt.imshow(opening,'gray')"
   ]
  },
  {
   "cell_type": "code",
   "execution_count": 8,
   "metadata": {},
   "outputs": [],
   "source": [
    "plt.rcParams['figure.figsize'] = 160, 141 # za prikaz većih slika i plotova, zakomentarisati ako nije potrebno"
   ]
  },
  {
   "cell_type": "code",
   "execution_count": 23,
   "metadata": {},
   "outputs": [
    {
     "name": "stdout",
     "output_type": "stream",
     "text": [
      "pronadjeno kontura: 80\n",
      "w: 3 h: 3 size: 6\n",
      "w: 7 h: 31 size: 38\n",
      "w: 3 h: 3 size: 6\n",
      "w: 8 h: 33 size: 41\n",
      "w: 3 h: 3 size: 6\n",
      "w: 5 h: 5 size: 10\n",
      "w: 7 h: 31 size: 38\n",
      "w: 12 h: 8 size: 20\n",
      "w: 4 h: 6 size: 10\n",
      "w: 9 h: 46 size: 55\n",
      "w: 7 h: 31 size: 38\n",
      "w: 5 h: 5 size: 10\n",
      "w: 33 h: 29 size: 62\n",
      "w: 5 h: 5 size: 10\n",
      "w: 6 h: 8 size: 14\n",
      "w: 5 h: 7 size: 12\n",
      "w: 6 h: 7 size: 13\n",
      "w: 14 h: 9 size: 23\n",
      "meni koristnih: 67\n"
     ]
    },
    {
     "data": {
      "image/png": "[encoded data removed]",
      "text/plain": [
       "<Figure size 144x144 with 1 Axes>"
      ]
     },
     "metadata": {},
     "output_type": "display_data"
    }
   ],
   "source": [
    "imga, contours, hierarchy = cv2.findContours(opening.copy(), cv2.RETR_EXTERNAL, cv2.CHAIN_APPROX_SIMPLE)\n",
    "image_crtanje = img.copy()\n",
    "regions_array = []\n",
    "print(\"pronadjeno kontura: \" + str(len(contours)))\n",
    "regija_kvacica = []\n",
    "\n",
    "kernel = cv2.getStructuringElement(cv2.MORPH_ELLIPSE, (3, 3))\n",
    "# TODO: PORAVNATI CELU SLIKU NEKAKO\n",
    "for contour in contours:\n",
    "    x, y, w, h = cv2.boundingRect(contour)\n",
    "    k = y - 20\n",
    "    if k < 1:\n",
    "        k = y\n",
    "    region = opening[y:y + h + 1, x:x + w + 1]\n",
    "    povrsina = cv2.contourArea(contour)\n",
    "    if (w < 5 + percentWhitePixel)  or (h < 25 + percentWhitePixel)  or (h + w) < 40:\n",
    "        print(\"w: \" + str(w) + \" h: \" + str(h) + \" size: \" + str(h+w))\n",
    "        if (h>20+percentWhitePixel and w < 10 + percentWhitePixel): # vrv je I u pitanju\n",
    "            region = cv2.morphologyEx(region.copy(), cv2.MORPH_DILATE, kernel, iterations=1)\n",
    "            regions_array.append([resize_region(region), (x, y, w, h)])\n",
    "            continue\n",
    "        else: # sum koji samo preskacemo\n",
    "            continue\n",
    "    # ZA SVAKI REGION RADIM POBOLJSANJE\n",
    "    region = cv2.morphologyEx(region.copy(), cv2.MORPH_DILATE, kernel, iterations=1)\n",
    "\n",
    "    regions_array.append([resize_region(region), (x, y, w, h)])\n",
    "    \n",
    "    \n",
    "plt.imshow(image_crtanje)\n",
    "\n",
    "regions_array = sorted(regions_array, key=lambda item: item[1][0])\n",
    "sorted_regions = [region[0] for region in regions_array]\n",
    "sorted_rectangles = [region[1] for region in regions_array]\n",
    "    \n",
    "\n",
    "region_distances = []\n",
    "# Izdvojiti sortirane parametre opisujućih pravougaonika\n",
    "# Izračunati rastojanja između svih susednih regiona po x osi i dodati ih u region_distances niz\n",
    "for index in range(0, len(sorted_rectangles) - 1):    \n",
    "    current = sorted_rectangles[index]\n",
    "    next_rect = sorted_rectangles[index + 1]    \n",
    "    distance = next_rect[0] - (current[0] + current[2])  # X_next - (X_current + W_current)\n",
    "    region_distances.append(distance)\n",
    "\n",
    "\n",
    "print(\"meni koristnih: \" + str(len(sorted_regions)))\n"
   ]
  },
  {
   "cell_type": "code",
   "execution_count": 24,
   "metadata": {},
   "outputs": [
    {
     "name": "stdout",
     "output_type": "stream",
     "text": [
      "\t\t recenica: l dišoovered that It wae due to the lnqooent čur of čoDfee I oonIumed e ery morning\n",
      "\t\t procesirana recenica: I dišćovered that It We due to the innoćent Our of coffee I conšumed He very morning\n",
      "\n",
      "I dišćovered that It We due to the innoćent Our of coffee I conšumed He very morning\n"
     ]
    }
   ],
   "source": [
    "# PREDIKCIJA\n",
    "print(extract_text(region_distances, sorted_regions, ann,vocabulary))"
   ]
  },
  {
   "cell_type": "code",
   "execution_count": 25,
   "metadata": {},
   "outputs": [
    {
     "data": {
      "image/png": "[encoded data removed]",
      "text/plain": [
       "<Figure size 2160x1440 with 67 Axes>"
      ]
     },
     "metadata": {},
     "output_type": "display_data"
    }
   ],
   "source": [
    "plt.rcParams['figure.figsize'] = 2, 2 # za prikaz većih slika i plotova, zakomentarisati ako nije potrebno\n",
    "plot_images(sorted_regions)"
   ]
  },
  {
   "cell_type": "code",
   "execution_count": null,
   "metadata": {},
   "outputs": [],
   "source": [
    "plt.imshow(sorted_regions[0])"
   ]
  },
  {
   "cell_type": "code",
   "execution_count": null,
   "metadata": {},
   "outputs": [],
   "source": [
    "plt.imshow(sorted_regions[1])"
   ]
  },
  {
   "cell_type": "code",
   "execution_count": null,
   "metadata": {},
   "outputs": [],
   "source": [
    "plt.imshow(sorted_regions[2])\n",
    "print(sorted_rectangles[2])"
   ]
  },
  {
   "cell_type": "code",
   "execution_count": null,
   "metadata": {},
   "outputs": [],
   "source": [
    "plt.imshow(sorted_regions[3])"
   ]
  },
  {
   "cell_type": "code",
   "execution_count": null,
   "metadata": {},
   "outputs": [],
   "source": [
    "plt.imshow(sorted_regions[4])"
   ]
  },
  {
   "cell_type": "code",
   "execution_count": null,
   "metadata": {},
   "outputs": [],
   "source": [
    "plt.imshow(sorted_regions[5])"
   ]
  },
  {
   "cell_type": "code",
   "execution_count": null,
   "metadata": {},
   "outputs": [],
   "source": [
    "plt.imshow(sorted_regions[6])"
   ]
  },
  {
   "cell_type": "code",
   "execution_count": null,
   "metadata": {},
   "outputs": [],
   "source": [
    "plt.imshow(sorted_regions[7])"
   ]
  },
  {
   "cell_type": "code",
   "execution_count": null,
   "metadata": {},
   "outputs": [],
   "source": [
    "plt.imshow(sorted_regions[8])"
   ]
  },
  {
   "cell_type": "code",
   "execution_count": null,
   "metadata": {},
   "outputs": [],
   "source": [
    "plt.imshow(sorted_regions[9])"
   ]
  },
  {
   "cell_type": "code",
   "execution_count": null,
   "metadata": {},
   "outputs": [],
   "source": [
    "plt.imshow(sorted_regions[10])"
   ]
  },
  {
   "cell_type": "code",
   "execution_count": null,
   "metadata": {},
   "outputs": [],
   "source": [
    "plt.imshow(sorted_regions[11])"
   ]
  },
  {
   "cell_type": "code",
   "execution_count": null,
   "metadata": {},
   "outputs": [],
   "source": [
    "plt.imshow(sorted_regions[12])"
   ]
  },
  {
   "cell_type": "code",
   "execution_count": null,
   "metadata": {},
   "outputs": [],
   "source": [
    "plt.imshow(sorted_regions[13])"
   ]
  },
  {
   "cell_type": "code",
   "execution_count": null,
   "metadata": {},
   "outputs": [],
   "source": [
    "plt.imshow(sorted_regions[14])"
   ]
  },
  {
   "cell_type": "code",
   "execution_count": null,
   "metadata": {},
   "outputs": [],
   "source": [
    "plt.imshow(sorted_regions[15])"
   ]
  },
  {
   "cell_type": "code",
   "execution_count": null,
   "metadata": {},
   "outputs": [],
   "source": [
    "plt.imshow(sorted_regions[16])"
   ]
  },
  {
   "cell_type": "code",
   "execution_count": null,
   "metadata": {},
   "outputs": [],
   "source": [
    "plt.imshow(sorted_regions[17])"
   ]
  },
  {
   "cell_type": "code",
   "execution_count": null,
   "metadata": {},
   "outputs": [],
   "source": [
    "plt.imshow(sorted_regions[18])"
   ]
  },
  {
   "cell_type": "code",
   "execution_count": null,
   "metadata": {},
   "outputs": [],
   "source": [
    "plt.imshow(sorted_regions[19])"
   ]
  },
  {
   "cell_type": "code",
   "execution_count": null,
   "metadata": {},
   "outputs": [],
   "source": [
    "plt.imshow(sorted_regions[20])"
   ]
  },
  {
   "cell_type": "code",
   "execution_count": null,
   "metadata": {},
   "outputs": [],
   "source": [
    "plt.imshow(sorted_regions[21])"
   ]
  },
  {
   "cell_type": "code",
   "execution_count": null,
   "metadata": {},
   "outputs": [],
   "source": [
    "plt.imshow(sorted_regions[22])"
   ]
  },
  {
   "cell_type": "code",
   "execution_count": null,
   "metadata": {},
   "outputs": [],
   "source": [
    "plt.imshow(sorted_regions[23])"
   ]
  },
  {
   "cell_type": "code",
   "execution_count": null,
   "metadata": {},
   "outputs": [],
   "source": [
    "plt.imshow(sorted_regions[24])"
   ]
  },
  {
   "cell_type": "code",
   "execution_count": null,
   "metadata": {},
   "outputs": [],
   "source": [
    "plt.imshow(sorted_regions[25])"
   ]
  },
  {
   "cell_type": "code",
   "execution_count": null,
   "metadata": {},
   "outputs": [],
   "source": [
    "plt.imshow(sorted_regions[26])"
   ]
  },
  {
   "cell_type": "code",
   "execution_count": null,
   "metadata": {},
   "outputs": [],
   "source": [
    "plt.imshow(sorted_regions[27])"
   ]
  },
  {
   "cell_type": "code",
   "execution_count": null,
   "metadata": {},
   "outputs": [],
   "source": [
    "plt.imshow(sorted_regions[28])"
   ]
  },
  {
   "cell_type": "code",
   "execution_count": null,
   "metadata": {},
   "outputs": [],
   "source": [
    "plt.imshow(sorted_regions[29])"
   ]
  },
  {
   "cell_type": "code",
   "execution_count": null,
   "metadata": {},
   "outputs": [],
   "source": [
    "plt.imshow(sorted_regions[30])"
   ]
  },
  {
   "cell_type": "code",
   "execution_count": null,
   "metadata": {},
   "outputs": [],
   "source": [
    "plt.imshow(sorted_regions[31])"
   ]
  },
  {
   "cell_type": "code",
   "execution_count": null,
   "metadata": {},
   "outputs": [],
   "source": [
    "plt.imshow(sorted_regions[32])"
   ]
  },
  {
   "cell_type": "code",
   "execution_count": null,
   "metadata": {},
   "outputs": [],
   "source": [
    "plt.imshow(sorted_regions[33])"
   ]
  },
  {
   "cell_type": "code",
   "execution_count": null,
   "metadata": {},
   "outputs": [],
   "source": [
    "plt.imshow(sorted_regions[34])"
   ]
  },
  {
   "cell_type": "code",
   "execution_count": null,
   "metadata": {},
   "outputs": [],
   "source": [
    "plt.imshow(sorted_regions[35])"
   ]
  },
  {
   "cell_type": "code",
   "execution_count": null,
   "metadata": {},
   "outputs": [],
   "source": []
  },
  {
   "cell_type": "code",
   "execution_count": null,
   "metadata": {},
   "outputs": [],
   "source": []
  }
 ],
 "metadata": {
  "kernelspec": {
   "display_name": "Python 3",
   "language": "python",
   "name": "python3"
  },
  "language_info": {
   "codemirror_mode": {
    "name": "ipython",
    "version": 3
   },
   "file_extension": ".py",
   "mimetype": "text/x-python",
   "name": "python",
   "nbconvert_exporter": "python",
   "pygments_lexer": "ipython3",
   "version": "3.6.5"
  }
 },
 "nbformat": 4,
 "nbformat_minor": 1
}
