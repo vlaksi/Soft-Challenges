{
 "cells": [
  {
   "cell_type": "markdown",
   "metadata": {},
   "source": [
    "# Moj rad"
   ]
  },
  {
   "cell_type": "code",
   "execution_count": 2,
   "metadata": {},
   "outputs": [],
   "source": [
    "from __future__ import print_function\n",
    "#import potrebnih biblioteka\n",
    "import cv2\n",
    "import collections\n",
    "\n",
    "# keras\n",
    "from keras.models import Sequential\n",
    "from keras.layers.core import Dense,Activation\n",
    "from keras.optimizers import SGD\n",
    "from keras.models import model_from_json\n",
    "\n",
    "#Sklearn biblioteka sa implementiranim K-means algoritmom\n",
    "from sklearn import datasets\n",
    "from sklearn.cluster import KMeans\n",
    "\n",
    "%matplotlib inline\n",
    "import numpy as np\n",
    "import matplotlib.pylab as plt\n",
    "plt.rcParams['figure.figsize'] = 8, 4 # za prikaz većih slika i plotova, zakomentarisati ako nije potrebno\n",
    "\n",
    "from pocetak import *\n",
    "from services.preparation_for_neural_network import *\n",
    "from services.show_result import *"
   ]
  },
  {
   "cell_type": "code",
   "execution_count": 3,
   "metadata": {},
   "outputs": [],
   "source": [
    "# kreiranje recnika svih poznatih reci, za korekciju Levenstein rastojanjem\n",
    "VOCABULARY_PATH = 'dataset/dict.txt'\n",
    "vocabulary = dict()\n",
    "with open(VOCABULARY_PATH, 'r', encoding='utf-8') as file:\n",
    "    data = file.read()\n",
    "    lines = data.split('\\n')\n",
    "    for index, line in enumerate(lines):\n",
    "        cols = line.split()\n",
    "        if len(cols) == 3:\n",
    "            vocabulary[cols[1]] = cols[2]"
   ]
  },
  {
   "cell_type": "code",
   "execution_count": 4,
   "metadata": {},
   "outputs": [
    {
     "name": "stdout",
     "output_type": "stream",
     "text": [
      "Broj prepoznatih regiona: 30\n",
      "Broj prepoznatih regiona: 30\n",
      "duzina inputa: 60\n",
      "duzina outputs: 60\n",
      "Istrenirani model uspesno ucitan.\n"
     ]
    },
    {
     "data": {
      "image/png": "[encoded data removed]",
      "text/plain": [
       "<Figure size 576x288 with 1 Axes>"
      ]
     },
     "metadata": {},
     "output_type": "display_data"
    }
   ],
   "source": [
    "image_path0 = 'dataset/train/alphabet0.png'\n",
    "letters0 = load_image_and_find_roi_train(image_path0)\n",
    "alphabet0 = ['A', 'B', 'C', 'Č', 'Ć', 'D', 'E', 'F', 'G', 'H','I', 'J', 'K', 'L', 'M', 'N', 'O', 'P', 'Q', 'R', 'S','Š', 'T', 'U','V', 'W', 'X', 'Y', 'Z', 'Ž']\n",
    "\n",
    "image_path1 = 'dataset/train/alphabet1.png'\n",
    "letters1 = load_image_and_find_roi_train(image_path1)\n",
    "alphabet1 = ['a', 'b', 'c', 'č', 'ć', 'd', 'e', 'f', 'g', 'h', 'i', 'j', 'k', 'l', 'm',\n",
    "            'n', 'o', 'p', 'q',\n",
    "            'r', 's', 'š', 't', 'u', 'v', 'w', 'x', 'y', 'z', 'ž']\n",
    "alphabet= alphabet0 + alphabet1\n",
    "letters = letters0 + letters1\n",
    "\n",
    "inputs = prepare_for_ann(letters)\n",
    "outputs = convert_output(alphabet)\n",
    "print(\"duzina inputa: \" + str(len(inputs)))\n",
    "print(\"duzina outputs: \" + str(len(outputs)))\n",
    "\n",
    "# probaj da ucitas prethodno istreniran model\n",
    "ann = load_trained_ann()\n",
    "\n",
    "# ako je ann=None, znaci da model nije ucitan u prethodnoj metodi i da je potrebno istrenirati novu mrezu\n",
    "if ann is None:\n",
    "    print(\"Traniranje modela zapoceto.\")\n",
    "    ann = create_ann()\n",
    "    ann = train_ann(ann, inputs, outputs)\n",
    "    print(\"Treniranje modela zavrseno.\")\n",
    "    # serijalizuj novu mrezu nakon treniranja, da se ne trenira ponovo svaki put\n",
    "    serialize_ann(ann)"
   ]
  },
  {
   "cell_type": "code",
   "execution_count": 5,
   "metadata": {},
   "outputs": [],
   "source": [
    "# Učitavanje slike i određivanje regiona od interesa\n",
    "validation_image_path = 'dataset/validation/train5.png'\n",
    "distances, letters = load_image_and_find_roi_HSV_validate(validation_image_path)"
   ]
  },
  {
   "cell_type": "code",
   "execution_count": null,
   "metadata": {},
   "outputs": [],
   "source": [
    "# PREDIKCIJA\n",
    "print(extract_text(distances, letters, ann,vocabulary))"
   ]
  },
  {
   "cell_type": "code",
   "execution_count": 16,
   "metadata": {},
   "outputs": [
    {
     "name": "stdout",
     "output_type": "stream",
     "text": [
      "pronadjeno kontura: 82\n",
      "\t\t\th: 4 w: 4 size: 8\n",
      "\t\t\th: 4 w: 3 size: 7\n",
      "\t\t\th: 3 w: 3 size: 6\n",
      "\t\t\th: 4 w: 4 size: 8\n",
      "\t\t\th: 4 w: 3 size: 7\n",
      "\t\t\th: 3 w: 3 size: 6\n",
      "\t\t\th: 8 w: 4 size: 12\n",
      "\t\t\th: 4 w: 4 size: 8\n",
      "\t\t\th: 4 w: 4 size: 8\n",
      "\t\t\th: 4 w: 4 size: 8\n",
      "\t\t\th: 3 w: 3 size: 6\n",
      "\t\t\th: 3 w: 3 size: 6\n",
      "\t\t\th: 3 w: 3 size: 6\n",
      "\t\t\th: 4 w: 3 size: 7\n",
      "\t\t\th: 3 w: 3 size: 6\n",
      "\t\t\th: 4 w: 3 size: 7\n",
      "\t\t\th: 4 w: 4 size: 8\n",
      "\t\t\th: 3 w: 4 size: 7\n",
      "\t\t\th: 3 w: 3 size: 6\n",
      "\t\t\th: 4 w: 3 size: 7\n",
      "\t\t\th: 4 w: 3 size: 7\n",
      "\t\t\th: 3 w: 4 size: 7\n",
      "\t\t\th: 4 w: 3 size: 7\n",
      "\t\t\th: 4 w: 3 size: 7\n",
      "\t\t\th: 4 w: 3 size: 7\n",
      "\t\t\th: 4 w: 4 size: 8\n",
      "\t\t\th: 4 w: 3 size: 7\n",
      "\t\t\th: 3 w: 3 size: 6\n",
      "\t\t\th: 4 w: 3 size: 7\n",
      "\t\t\th: 4 w: 4 size: 8\n",
      "\t\t\th: 4 w: 4 size: 8\n",
      "\t\t\th: 8 w: 8 size: 16\n",
      "\t\t\th: 13 w: 19 size: 32\n",
      "\t\t\th: 4 w: 4 size: 8\n",
      "\t\t\th: 3 w: 3 size: 6\n",
      "\t\t\th: 4 w: 4 size: 8\n",
      "\t\t\th: 4 w: 4 size: 8\n",
      "\t\t\th: 4 w: 4 size: 8\n",
      "\t\t\th: 4 w: 4 size: 8\n",
      "\t\t\th: 4 w: 3 size: 7\n",
      "\t\t\th: 4 w: 8 size: 12\n",
      "\t\t\th: 4 w: 4 size: 8\n",
      "\t\t\th: 9 w: 13 size: 22\n",
      "\t\t\th: 4 w: 4 size: 8\n",
      "\t\t\th: 3 w: 4 size: 7\n",
      "\t\t\th: 3 w: 3 size: 6\n",
      "\t\t\th: 4 w: 3 size: 7\n",
      "\t\t\th: 4 w: 4 size: 8\n",
      "\t\t\th: 4 w: 4 size: 8\n",
      "\t\t\th: 4 w: 3 size: 7\n",
      "\t\t\th: 4 w: 3 size: 7\n",
      "meni koristnih: 31\n"
     ]
    },
    {
     "data": {
      "image/png": "[encoded data removed]",
      "text/plain": [
       "<Figure size 576x288 with 1 Axes>"
      ]
     },
     "metadata": {},
     "output_type": "display_data"
    }
   ],
   "source": [
    "# POPRAVLJANJEEEE SEGMENTACIJE\n",
    "image_path = 'dataset/validation/train20.png'\n",
    "\n",
    "img = cv2.imread(image_path)\n",
    "image = img.copy()\n",
    "best_channel = image[:, :, 1]\n",
    "ret, image_bin = cv2.threshold(best_channel, 0, 255, cv2.THRESH_OTSU)\n",
    "invertovana = invert(image_bin)\n",
    "kernel = cv2.getStructuringElement(cv2.MORPH_ELLIPSE, (3, 3))\n",
    "opening = cv2.morphologyEx(invertovana, cv2.MORPH_OPEN, kernel, iterations=1)\n",
    "# kernel = cv2.getStructuringElement(cv2.MORPH_ELLIPSE, (15, 15))\n",
    "# closing = cv2.morphologyEx(opening, cv2.MORPH_CLOSE, kernel, iterations=1)\n",
    "\n",
    "imga, contours, hierarchy = cv2.findContours(opening.copy(), cv2.RETR_EXTERNAL, cv2.CHAIN_APPROX_SIMPLE)\n",
    "image_crtanje = img.copy()\n",
    "regions_array = []\n",
    "print(\"pronadjeno kontura: \" + str(len(contours)))\n",
    "for contour in contours:\n",
    "    x, y, w, h = cv2.boundingRect(contour)\n",
    "    region = opening[y:y + h + 1, x:x + w + 1]\n",
    "    if w < 10 or h < 45 or (h + w) < 50:\n",
    "        \n",
    "        print(\"\\t\\t\\th: \" + str(h) + \" w: \" + str(w) + \" size: \" + str(h + w))\n",
    "        continue\n",
    "#     cv2.rectangle(image_crtanje, (x, y), (x + w, y + h), (0, 255, 0), 4)\n",
    "    #     print(\"h: \" + str(h) + \" w: \" + str(w) + \" size: \" + str(h + w))\n",
    "    regions_array.append([resize_region(region), (x, y, w, h)])\n",
    "plt.imshow(opening,'gray')\n",
    "\n",
    "# image_crtanje = img.copy()\n",
    "# cv2.drawContours(image_crtanje, contours, -1, (255, 0, 0), 2)\n",
    "# plt.imshow(image_crtanje)\n",
    "\n",
    "regions_array = sorted(regions_array, key=lambda item: item[1][0])\n",
    "\n",
    "sorted_regions = [region[0] for region in regions_array]\n",
    "sorted_rectangles = [region[1] for region in regions_array]\n",
    "    \n",
    "\n",
    "region_distances = []\n",
    "# Izdvojiti sortirane parametre opisujućih pravougaonika\n",
    "# Izračunati rastojanja između svih susednih regiona po x osi i dodati ih u region_distances niz\n",
    "for index in range(0, len(sorted_rectangles) - 1):    \n",
    "    current = sorted_rectangles[index]\n",
    "    next_rect = sorted_rectangles[index + 1]    \n",
    "    distance = next_rect[0] - (current[0] + current[2])  # X_next - (X_current + W_current)\n",
    "    region_distances.append(distance)\n",
    "\n",
    "# plt.imshow(sorted_regions[0])\n",
    "# display_image(image_crtanje)\n",
    "# plt.imshow(image_crtanje)\n",
    "print(\"meni koristnih: \" + str(len(sorted_regions)))\n"
   ]
  },
  {
   "cell_type": "code",
   "execution_count": 17,
   "metadata": {},
   "outputs": [
    {
     "name": "stdout",
     "output_type": "stream",
     "text": [
      "\t\t recenica: i not bniv vanqJisred but tore it from\n",
      "\t\t procesirana recenica: I not believe vanquišhed but tore it from\n",
      "\n",
      "I not believe vanquišhed but tore it from\n"
     ]
    }
   ],
   "source": [
    "# PREDIKCIJA\n",
    "print(extract_text(region_distances, sorted_regions, ann,vocabulary))"
   ]
  },
  {
   "cell_type": "code",
   "execution_count": 12,
   "metadata": {},
   "outputs": [
    {
     "data": {
      "text/plain": [
       "<matplotlib.image.AxesImage at 0x7f886c3d34e0>"
      ]
     },
     "execution_count": 12,
     "metadata": {},
     "output_type": "execute_result"
    },
    {
     "data": {
      "image/png": "[encoded data removed]",
      "text/plain": [
       "<Figure size 576x288 with 1 Axes>"
      ]
     },
     "metadata": {},
     "output_type": "display_data"
    }
   ],
   "source": [
    "plt.imshow(sorted_regions[0])"
   ]
  },
  {
   "cell_type": "code",
   "execution_count": null,
   "metadata": {},
   "outputs": [],
   "source": [
    "plt.imshow(sorted_regions[1])"
   ]
  },
  {
   "cell_type": "code",
   "execution_count": null,
   "metadata": {},
   "outputs": [],
   "source": [
    "plt.imshow(sorted_regions[2])"
   ]
  },
  {
   "cell_type": "code",
   "execution_count": null,
   "metadata": {},
   "outputs": [],
   "source": [
    "plt.imshow(sorted_regions[3])"
   ]
  },
  {
   "cell_type": "code",
   "execution_count": null,
   "metadata": {},
   "outputs": [],
   "source": [
    "plt.imshow(sorted_regions[4])"
   ]
  },
  {
   "cell_type": "code",
   "execution_count": null,
   "metadata": {},
   "outputs": [],
   "source": [
    "plt.imshow(sorted_regions[5])"
   ]
  },
  {
   "cell_type": "code",
   "execution_count": null,
   "metadata": {},
   "outputs": [],
   "source": [
    "plt.imshow(sorted_regions[6])"
   ]
  },
  {
   "cell_type": "code",
   "execution_count": null,
   "metadata": {},
   "outputs": [],
   "source": [
    "plt.imshow(sorted_regions[7])"
   ]
  },
  {
   "cell_type": "code",
   "execution_count": null,
   "metadata": {},
   "outputs": [],
   "source": [
    "plt.imshow(sorted_regions[8])"
   ]
  },
  {
   "cell_type": "code",
   "execution_count": null,
   "metadata": {},
   "outputs": [],
   "source": [
    "plt.imshow(sorted_regions[9])"
   ]
  },
  {
   "cell_type": "code",
   "execution_count": null,
   "metadata": {},
   "outputs": [],
   "source": [
    "plt.imshow(sorted_regions[10])"
   ]
  },
  {
   "cell_type": "code",
   "execution_count": null,
   "metadata": {},
   "outputs": [],
   "source": [
    "plt.imshow(sorted_regions[11])"
   ]
  },
  {
   "cell_type": "code",
   "execution_count": null,
   "metadata": {},
   "outputs": [],
   "source": [
    "plt.imshow(sorted_regions[12])"
   ]
  },
  {
   "cell_type": "code",
   "execution_count": null,
   "metadata": {},
   "outputs": [],
   "source": [
    "plt.imshow(sorted_regions[13])"
   ]
  },
  {
   "cell_type": "code",
   "execution_count": null,
   "metadata": {},
   "outputs": [],
   "source": [
    "plt.imshow(sorted_regions[14])"
   ]
  },
  {
   "cell_type": "code",
   "execution_count": null,
   "metadata": {},
   "outputs": [],
   "source": [
    "plt.imshow(sorted_regions[15])"
   ]
  },
  {
   "cell_type": "code",
   "execution_count": null,
   "metadata": {},
   "outputs": [],
   "source": [
    "plt.imshow(sorted_regions[16])"
   ]
  },
  {
   "cell_type": "code",
   "execution_count": null,
   "metadata": {},
   "outputs": [],
   "source": [
    "plt.imshow(sorted_regions[17])"
   ]
  },
  {
   "cell_type": "code",
   "execution_count": null,
   "metadata": {},
   "outputs": [],
   "source": [
    "plt.imshow(sorted_regions[18])"
   ]
  },
  {
   "cell_type": "code",
   "execution_count": null,
   "metadata": {},
   "outputs": [],
   "source": [
    "plt.imshow(sorted_regions[19])"
   ]
  },
  {
   "cell_type": "code",
   "execution_count": null,
   "metadata": {},
   "outputs": [],
   "source": [
    "plt.imshow(sorted_regions[20])"
   ]
  },
  {
   "cell_type": "code",
   "execution_count": null,
   "metadata": {},
   "outputs": [],
   "source": [
    "plt.imshow(sorted_regions[21])"
   ]
  },
  {
   "cell_type": "code",
   "execution_count": null,
   "metadata": {},
   "outputs": [],
   "source": [
    "plt.imshow(sorted_regions[22])"
   ]
  },
  {
   "cell_type": "code",
   "execution_count": null,
   "metadata": {},
   "outputs": [],
   "source": [
    "plt.imshow(sorted_regions[23])"
   ]
  },
  {
   "cell_type": "code",
   "execution_count": null,
   "metadata": {},
   "outputs": [],
   "source": [
    "plt.imshow(sorted_regions[24])"
   ]
  },
  {
   "cell_type": "code",
   "execution_count": null,
   "metadata": {},
   "outputs": [],
   "source": [
    "plt.imshow(sorted_regions[25])"
   ]
  },
  {
   "cell_type": "code",
   "execution_count": null,
   "metadata": {},
   "outputs": [],
   "source": [
    "plt.imshow(sorted_regions[26])"
   ]
  },
  {
   "cell_type": "code",
   "execution_count": null,
   "metadata": {},
   "outputs": [],
   "source": [
    "plt.imshow(sorted_regions[27])"
   ]
  },
  {
   "cell_type": "code",
   "execution_count": null,
   "metadata": {},
   "outputs": [],
   "source": [
    "plt.imshow(sorted_regions[28])"
   ]
  },
  {
   "cell_type": "code",
   "execution_count": null,
   "metadata": {},
   "outputs": [],
   "source": [
    "plt.imshow(sorted_regions[29])"
   ]
  },
  {
   "cell_type": "code",
   "execution_count": null,
   "metadata": {},
   "outputs": [],
   "source": [
    "plt.imshow(sorted_regions[30])"
   ]
  },
  {
   "cell_type": "code",
   "execution_count": null,
   "metadata": {},
   "outputs": [],
   "source": [
    "plt.imshow(sorted_regions[31])"
   ]
  },
  {
   "cell_type": "code",
   "execution_count": null,
   "metadata": {},
   "outputs": [],
   "source": [
    "plt.imshow(sorted_regions[32])"
   ]
  },
  {
   "cell_type": "code",
   "execution_count": null,
   "metadata": {},
   "outputs": [],
   "source": [
    "plt.imshow(sorted_regions[33])"
   ]
  },
  {
   "cell_type": "code",
   "execution_count": null,
   "metadata": {},
   "outputs": [],
   "source": [
    "plt.imshow(sorted_regions[34])"
   ]
  },
  {
   "cell_type": "code",
   "execution_count": null,
   "metadata": {},
   "outputs": [],
   "source": [
    "plt.imshow(sorted_regions[35])"
   ]
  },
  {
   "cell_type": "code",
   "execution_count": null,
   "metadata": {},
   "outputs": [],
   "source": []
  },
  {
   "cell_type": "code",
   "execution_count": null,
   "metadata": {},
   "outputs": [],
   "source": []
  }
 ],
 "metadata": {
  "kernelspec": {
   "display_name": "Python 3",
   "language": "python",
   "name": "python3"
  },
  "language_info": {
   "codemirror_mode": {
    "name": "ipython",
    "version": 3
   },
   "file_extension": ".py",
   "mimetype": "text/x-python",
   "name": "python",
   "nbconvert_exporter": "python",
   "pygments_lexer": "ipython3",
   "version": "3.6.5"
  }
 },
 "nbformat": 4,
 "nbformat_minor": 1
}
